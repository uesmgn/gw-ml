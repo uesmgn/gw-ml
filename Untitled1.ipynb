{
 "cells": [
  {
   "cell_type": "code",
   "execution_count": 107,
   "metadata": {},
   "outputs": [
    {
     "data": {
      "text/plain": [
       "tensor(0.1117)"
      ]
     },
     "execution_count": 107,
     "metadata": {},
     "output_type": "execute_result"
    }
   ],
   "source": [
    "import torch\n",
    "import torch.nn.functional as F\n",
    "\n",
    "K = 4\n",
    "eps = 1e-10\n",
    "u = F.softmax(torch.ones(K), 0)\n",
    "y = F.one_hot(torch.Tensor([3]).to(torch.long), K).to(torch.float)\n",
    "y = F.softmax(torch.ones(K), 0)\n",
    "y = F.softmax(torch.randn(K), 0)\n",
    "# y = F.softmax(torch.Tensor([1,0,0,0]), 0)\n",
    "\n",
    "F.kl_div(torch.log(u), y, reduction='none').mean()\n"
   ]
  },
  {
   "cell_type": "code",
   "execution_count": 104,
   "metadata": {},
   "outputs": [
    {
     "data": {
      "text/plain": [
       "torch.Size([16])"
      ]
     },
     "execution_count": 104,
     "metadata": {},
     "output_type": "execute_result"
    }
   ],
   "source": [
    "a = torch.randn(16)\n",
    "b = torch.randn(16)\n",
    "c = torch.randn(16)\n",
    "d = torch.stack([a,b,c])\n",
    "d.mean(0).shape"
   ]
  },
  {
   "cell_type": "code",
   "execution_count": 119,
   "metadata": {},
   "outputs": [
    {
     "data": {
      "image/png": "[encoded data removed]",
      "text/plain": [
       "<Figure size 432x288 with 1 Axes>"
      ]
     },
     "metadata": {
      "needs_background": "light"
     },
     "output_type": "display_data"
    }
   ],
   "source": [
    "import matplotlib.pyplot as plt\n",
    "%matplotlib inline\n",
    "import numpy as np\n",
    "\n",
    "xx = np.linspace(0, 400, 1000)\n",
    "beta_rate = 0.03\n",
    "beta_impact = 20\n",
    "beta = np.clip(np.exp(-beta_impact * np.exp(-beta_rate * xx)), 0, 1)\n",
    "\n",
    "plt.plot(xx, beta)\n",
    "plt.xlabel('epoch')\n",
    "plt.ylabel(r'$\\beta$')\n",
    "plt.xlim([0,400])\n",
    "plt.ylim([0,1])\n",
    "plt.show()"
   ]
  },
  {
   "cell_type": "code",
   "execution_count": null,
   "metadata": {},
   "outputs": [],
   "source": []
  }
 ],
 "metadata": {
  "kernelspec": {
   "display_name": "Python 3",
   "language": "python",
   "name": "python3"
  },
  "language_info": {
   "codemirror_mode": {
    "name": "ipython",
    "version": 3
   },
   "file_extension": ".py",
   "mimetype": "text/x-python",
   "name": "python",
   "nbconvert_exporter": "python",
   "pygments_lexer": "ipython3",
   "version": "3.7.6"
  }
 },
 "nbformat": 4,
 "nbformat_minor": 4
}
