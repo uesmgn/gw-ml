{
 "cells": [
  {
   "cell_type": "code",
   "execution_count": 2,
   "metadata": {},
   "outputs": [
    {
     "data": {
      "text/plain": [
       "torch.Size([16, 1000])"
      ]
     },
     "execution_count": 2,
     "metadata": {},
     "output_type": "execute_result"
    }
   ],
   "source": [
    "from net.models.resnet import ResNet\n",
    "from net.models.resvae import ResVAE_M1,  ResVAE_M2\n",
    "import torch\n",
    "import torch.nn.functional as F\n",
    "\n",
    "resnet = ResNet(block='basic')\n",
    "model= ResVAE_M1(resnet, device='cpu', hidden_dim=16, verbose=True)\n",
    "\n",
    "\n",
    "ux = torch.sigmoid(torch.randn(16, 1, 240, 240))\n",
    "lx = torch.sigmoid(torch.randn(16, 1, 241, 241))\n",
    "target = torch.randint(low=0, high=9, size=(16,))\n",
    "out = resnet(ux)\n",
    "out.shape"
   ]
  },
  {
   "cell_type": "code",
   "execution_count": 1,
   "metadata": {},
   "outputs": [],
   "source": [
    "import torch\n",
    "import torch.nn.functional as F\n",
    "import  numpy as np\n",
    "\n",
    "eps = 1e-10\n",
    "\n",
    "def bce_loss(inputs, targets):\n",
    "    loss = F.binary_cross_entropy(inputs, targets, reduction='none').view(inputs.shape[0], -1)\n",
    "    return loss\n",
    "\n",
    "def log_norm_kl(mean, var, mean_=None, var_=None):\n",
    "    if mean_ is None:\n",
    "        mean_ = torch.zeros_like(mean)\n",
    "    if var_ is None:\n",
    "        var_ = torch.ones_like(mean)\n",
    "    loss = 0.5 * ( torch.log(var_ / var) + (var + torch.pow(mean - mean_, 2)) / var_ - 1)\n",
    "    return loss\n",
    "\n",
    "def log_standard_norm_kl(mean, var):\n",
    "    loss = 0.5 * (-torch.log(var) + torch.pow(mean, 2) + var - 1)\n",
    "    return loss\n",
    "\n"
   ]
  },
  {
   "cell_type": "code",
   "execution_count": 6,
   "metadata": {},
   "outputs": [
    {
     "name": "stdout",
     "output_type": "stream",
     "text": [
      "tensor([200.0000,   2.1534,  53.3487,   0.7063])\n",
      "tensor([200.0000,   2.1534,  53.3487,   0.7063])\n"
     ]
    }
   ],
   "source": [
    "mean = torch.Tensor([20,0-2,10,0.1])\n",
    "var = torch.Tensor([1,2,10,0.1])\n",
    "x = mean + torch.pow(var, 0.5) * torch.randn_like(mean)\n",
    "\n",
    "l1 = log_norm_kl(mean, var, torch.zeros_like(mean), torch.ones_like(var))\n",
    "l2 = log_standard_norm_kl(mean, var)\n",
    "\n",
    "print(l1)\n",
    "print(l2)\n"
   ]
  },
  {
   "cell_type": "code",
   "execution_count": null,
   "metadata": {},
   "outputs": [],
   "source": []
  },
  {
   "cell_type": "code",
   "execution_count": null,
   "metadata": {},
   "outputs": [],
   "source": []
  }
 ],
 "metadata": {
  "kernelspec": {
   "display_name": "Python 3",
   "language": "python",
   "name": "python3"
  },
  "language_info": {
   "codemirror_mode": {
    "name": "ipython",
    "version": 3
   },
   "file_extension": ".py",
   "mimetype": "text/x-python",
   "name": "python",
   "nbconvert_exporter": "python",
   "pygments_lexer": "ipython3",
   "version": "3.7.6"
  }
 },
 "nbformat": 4,
 "nbformat_minor": 4
}
