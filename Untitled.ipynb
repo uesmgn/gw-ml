{
 "cells": [
  {
   "cell_type": "code",
   "execution_count": 74,
   "metadata": {},
   "outputs": [
    {
     "data": {
      "text/plain": [
       "4.000000122066271"
      ]
     },
     "execution_count": 74,
     "metadata": {},
     "output_type": "execute_result"
    }
   ],
   "source": [
    "import  numpy as np\n",
    "import torch\n",
    "import torch.nn.functional as F\n",
    "import  matplotlib.pyplot as plt\n",
    "%matplotlib inline\n",
    "\n",
    "# GMM\n",
    "gmm_vars = np.array([2,2,2])\n",
    "gmm_means = np.array([10,20,30])\n",
    "pi = F.softmax(torch.ones(3), 0).numpy()\n",
    "py = F.softmax(torch.ones(3), 0).numpy()\n",
    "\n",
    "z_m = np.array([10, 20, 30])\n",
    "\n",
    "xx = np.linspace(0, 40, 1000)\n",
    "yy_gmm = np.zeros_like(xx)\n",
    "i=0\n",
    "for mean, var in zip(gmm_means, gmm_vars): \n",
    "    yy = 1/np.sqrt(2*np.pi*var)*np.exp(-1/(2*var)*(xx-mean)**2)\n",
    "    yy_gmm += pi[i]*yy\n",
    "    i+=1\n",
    "plt.figure(figsize=(8,5))\n",
    "plt.plot(xx, yy_gmm)\n",
    "plt.ylim([0, 0.5])\n",
    "plt.savefig('gmm.png')\n",
    "plt.close()\n",
    "\n",
    "a_vars = np.array([2,2,2])\n",
    "a_means = np.array([14,24,34])\n",
    "plt.figure(figsize=(8,5))\n",
    "for mean, var in zip(a_means, a_vars): \n",
    "    yy = 1/np.sqrt(2*np.pi*var)*np.exp(-1/(2*var)*(xx-mean)**2)\n",
    "    plt.plot(xx, yy)\n",
    "plt.vlines(z_m, 0, 0.5)\n",
    "plt.ylim([0, 0.5])\n",
    "plt.savefig('a.png')\n",
    "plt.close()\n",
    "\n",
    "\n",
    "\n",
    "\n",
    "log_q = -0.5*np.log(gmm_vars).sum()-0.5/gmm_vars*(z_m-gmm_means)**2\n",
    "log_p = (-0.5*(py*np.log(a_vars).sum())-0.5*(py/a_vars*(z_m-a_means)**2)).sum()\n",
    "(log_q - log_p).mean()\n",
    "\n"
   ]
  },
  {
   "cell_type": "code",
   "execution_count": 81,
   "metadata": {},
   "outputs": [
    {
     "data": {
      "text/plain": [
       "0.5265176648090679"
      ]
     },
     "execution_count": 81,
     "metadata": {},
     "output_type": "execute_result"
    }
   ],
   "source": [
    "w_means = np.array([1,0,0])\n",
    "w_vars = np.array([1.2,1.2,1.2])\n",
    "kl = -0.5 * (1 + np.log(w_vars) - np.square(w_means,) - w_vars).sum()\n",
    "kl"
   ]
  },
  {
   "cell_type": "code",
   "execution_count": 16,
   "metadata": {},
   "outputs": [
    {
     "data": {
      "text/plain": [
       "<matplotlib.axes._subplots.AxesSubplot at 0x11a4a9f90>"
      ]
     },
     "execution_count": 16,
     "metadata": {},
     "output_type": "execute_result"
    },
    {
     "data": {
      "image/png": "[encoded data removed]",
      "text/plain": [
       "<Figure size 432x288 with 1 Axes>"
      ]
     },
     "metadata": {
      "needs_background": "light"
     },
     "output_type": "display_data"
    }
   ],
   "source": [
    "import os\n",
    "from glob import glob\n",
    "from collections import defaultdict\n",
    "import re\n",
    "import  matplotlib.pyplot as plt\n",
    "import pandas as pd\n",
    "\n",
    "DATASET_DIR = 'dataset'\n",
    "\n",
    "base_dir = os.path.dirname(os.path.abspath('__file__'))\n",
    "dataset_path = f'{base_dir}/{DATASET_DIR}'\n",
    "labels = [os.path.basename(p) for p in glob(f'{dataset_path}/*')]\n",
    "\n",
    "data = defaultdict()\n",
    "\n",
    "for label in labels:\n",
    "    # paths = glob(f'{dataset_path}/{label}/*_1.0.png')\n",
    "    paths = glob(f'{dataset_path}/{label}/*.png')\n",
    "    for path in paths:\n",
    "        idx = re.match(r'.+(L1|H1)_([a-zA-Z0-9]+)_.+', path).group(2)\n",
    "        data[idx] = {'label': label, 'path': path}\n",
    "df = pd.DataFrame.from_dict(data, orient='index')\n",
    "df.to_json('dataset.json')\n",
    "df[\"label\"].value_counts().plot(kind=\"bar\")"
   ]
  },
  {
   "cell_type": "code",
   "execution_count": null,
   "metadata": {},
   "outputs": [],
   "source": []
  }
 ],
 "metadata": {
  "kernelspec": {
   "display_name": "Python 3",
   "language": "python",
   "name": "python3"
  },
  "language_info": {
   "codemirror_mode": {
    "name": "ipython",
    "version": 3
   },
   "file_extension": ".py",
   "mimetype": "text/x-python",
   "name": "python",
   "nbconvert_exporter": "python",
   "pygments_lexer": "ipython3",
   "version": "3.7.4"
  }
 },
 "nbformat": 4,
 "nbformat_minor": 4
}
